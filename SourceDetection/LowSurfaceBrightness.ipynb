{
 "cells": [
  {
   "cell_type": "markdown",
   "metadata": {},
   "source": [
    "# Low-Surface Brightness Source Detection\n",
    "\n",
    "<br>Owner: **Alex Drlica-Wagner** ([@kadrlica](https://github.com/LSSTScienceCollaborations/StackClub/issues/new?body=@kadrlica))\n",
    "<br>Last Verified to Run: **2021-08-20**\n",
    "<br>Verified Stack Release: **w_2021_33**\n",
    "\n",
    "This notebook demonstrates how to run the source detection, measurment, and deblending algorithms with a focus on optimizing for low-surface-brightness object detection. It attempts to split out the source detection and measurement algorithms from `processCCD` and apply them to the search for low-surface-brightness galaxies. This notebook was inspired by the analysis of [Greco et al. 2018](https://arxiv.org/abs/1709.04474), adapted into notebook form in Robert Lupton's [Greco LSB.ipynb](https://github.com/RobertLuptonTheGood/notebooks/blob/master/Demos/Greco%20LSB.ipynb). Some source detection and measurement details come from [Tune Detection.ipynb](https://github.com/RobertLuptonTheGood/notebooks/blob/master/Demos/Tune%20Detection.ipynb) and [Kron.ipynb](https://github.com/RobertLuptonTheGood/notebooks/blob/master/Demos/Kron.ipynb).\n",
    "Interaction with `lsst.afw.display` was also improved by studying Michael Wood-Vasey's [DC2_Postage Stamps.ipynb](https://github.com/LSSTDESC/DC2-analysis/blob/master/tutorials/dm_butler_postage_stamps.ipynb).\n",
    "\n",
    "### Learning Objectives:\n",
    "After working through this notebook you should be able to\n",
    "   1. Run the `lsst.meas.algorithm` source detection, deblending, and measurement tasks.\n",
    "   2. Plot the resulting source catalogs and examine the mask of `DETECTED` pixels\n",
    "   3. Remove detected sources at pixel level using the detected `FootprintSet`\n",
    "   4. Re-run the source algorithms after convolving an image with a Gaussian kernel of a specific size.\n",
    "\n",
    "Other techniques that are demonstrated, but not empasized, in this notebook are\n",
    "   1. Use the (gen-2) `butler` to access a specific `calexp` `Exposure` object from the HSC RC dataset.\n",
    "   2. Create an image cutout and use `lsst.afw.display` to plot it.\n",
    "   3. Learn a bit about the [`matplotlib` backend to `lsst.afw.display` ](https://github.com/lsst/display_matplotlib/blob/master/python/lsst/display/matplotlib/matplotlib.py)\n",
    "\n",
    "### Logistics\n",
    "This notebook is intended to be run on `lsst-lsp-stable.ncsa.illinois.edu` from a local git clone of https://github.com/LSSTScienceCollaborations/StackClub. \n",
    "\n",
    "It is compatible with HSC (DM-25349) and DC2 (gen2) data.\n",
    "\n",
    "### Set Up"
   ]
  },
  {
   "cell_type": "code",
   "execution_count": null,
   "metadata": {},
   "outputs": [],
   "source": [
    "# What version of the Stack are we using?\n",
    "! echo $HOSTNAME\n",
    "! eups list -s | grep lsst_distrib"
   ]
  },
  {
   "cell_type": "code",
   "execution_count": null,
   "metadata": {},
   "outputs": [],
   "source": [
    "%matplotlib inline\n",
    "#%matplotlib ipympl # currently slow, but may be a good option in the future\n",
    "import os\n",
    "import warnings\n",
    "import numpy as np\n",
    "import matplotlib as mpl\n",
    "import matplotlib.pyplot as plt\n",
    "from IPython.display import IFrame, display, Markdown\n",
    "\n",
    "from matplotlib.patches import Rectangle\n",
    "from astropy.visualization import ZScaleInterval"
   ]
  },
  {
   "cell_type": "code",
   "execution_count": null,
   "metadata": {},
   "outputs": [],
   "source": [
    "import lsst.daf.persistence as dafPersist\n",
    "import lsst.daf.base        as dafBase\n",
    "import lsst.daf.butler      as dafButler\n",
    "\n",
    "import lsst.afw.image       as afwImage\n",
    "import lsst.afw.display     as afwDisplay\n",
    "import lsst.afw.table       as afwTable\n",
    "import lsst.geom            as afwGeom\n",
    "import lsst.obs.base        as obsBase"
   ]
  },
  {
   "cell_type": "code",
   "execution_count": null,
   "metadata": {},
   "outputs": [],
   "source": [
    "import lsst.daf.butler      as dafButler"
   ]
  },
  {
   "cell_type": "code",
   "execution_count": null,
   "metadata": {},
   "outputs": [],
   "source": [
    "# Filter some warnings printed by v16.0 of the stack\n",
    "#warnings.simplefilter(\"ignore\", category=FutureWarning)\n",
    "#warnings.simplefilter(\"ignore\", category=UserWarning)\n",
    "\n",
    "zscale = ZScaleInterval()\n",
    "plt.rcParams['figure.figsize'] = (8.0, 8.0)"
   ]
  },
  {
   "cell_type": "code",
   "execution_count": null,
   "metadata": {},
   "outputs": [],
   "source": [
    "# Position of our low surface brightness \"galaxy\"\n",
    "x_target, y_target = 1700, 2100\n",
    "width,height=400,400\n",
    "xmin,ymin = x_target-width//2, y_target-height//2"
   ]
  },
  {
   "cell_type": "markdown",
   "metadata": {},
   "source": [
    "### Data access\n",
    "\n",
    "Here we use the `butler` to access a `calexp` from a dataset in the RC repo. More information on the `butler` is available in [`ButlerTutorial.ipynb`](https://github.com/LSSTScienceCollaborations/StackClub/blob/master/Basics/ButlerTutorial.ipynb), while a deeper examination of the `calexp` object can be found in [Calexp_guided_tour.ipynb](https://github.com/LSSTScienceCollaborations/StackClub/blob/master/Basics/Calexp_guided_tour.ipynb). We expect the user to have a working knowledge of these objects."
   ]
  },
  {
   "cell_type": "code",
   "execution_count": null,
   "metadata": {},
   "outputs": [],
   "source": [
    "dataset='DC2'\n",
    "\n",
    "# Grab a calexp\n",
    "dataset_type = 'calexp'\n",
    "dataId = {'band':'i', 'visit': 512055, 'raftName': 'R20', 'detector': 75}\n",
    "# Counts to add to the image\n",
    "ncounts = int(1e5) \n",
    "\n",
    "repo='/repo/dc2'\n",
    "collection='2.2i/runs/DP0.1'"
   ]
  },
  {
   "cell_type": "code",
   "execution_count": null,
   "metadata": {},
   "outputs": [],
   "source": [
    "from lsst.daf.butler import Butler \n",
    "butler = Butler(repo,collections=collection)\n",
    "\n",
    "calexp = butler.get(dataset_type, **dataId)"
   ]
  },
  {
   "cell_type": "markdown",
   "metadata": {},
   "source": [
    "As described [elsewhere](), the `calexp` object possess more than just the raw pixel data of the image. It also contains a `mask`, which stores information about various pixels in a bit mask. Since we are interested in performing our own source detection and measurement, we choose to clear the previously set `DETECTED` mask plane."
   ]
  },
  {
   "cell_type": "code",
   "execution_count": null,
   "metadata": {},
   "outputs": [],
   "source": [
    "# Unset the `DETECTED` bits of the mask plane\n",
    "calexp.mask.removeAndClearMaskPlane('DETECTED')"
   ]
  },
  {
   "cell_type": "code",
   "execution_count": null,
   "metadata": {},
   "outputs": [],
   "source": [
    "# Use lsst.afw.display with the matplotlib backend\n",
    "afwDisplay.setDefaultBackend('matplotlib') \n",
    "# ADW: why can't we set the backend before this cell?\n",
    "\n",
    "plt.figure()\n",
    "afw_display = afwDisplay.Display()\n",
    "afw_display.scale('asinh', 'zscale')\n",
    "afw_display.mtv(calexp.image)\n",
    "\n",
    "# Overplot our cutout region of interest\n",
    "rect = Rectangle((xmin,ymin),width,height,facecolor='none',edgecolor='r',lw=2)\n",
    "plt.gca().add_artist(rect)\n",
    "plt.gca().axis('off')"
   ]
  },
  {
   "cell_type": "markdown",
   "metadata": {},
   "source": [
    "Our next step is to generate a cutout image. This is done by creating a bounding box and passing it to the `Factory` method of our calexp (a `lsst.afw.image.Exposure` object). Unfortunately, the arguments for the `Factory` method are poorly documented, and below we explain the specific arguments that we are passing to `Factory`:\n",
    "```\n",
    "calexp : the ExposureF we are starting from\n",
    "bbox   : the bounding box of the cutout\n",
    "origin : the image pixel origin is local to the cutout array\n",
    "deep   : copy the data rather than passing by reference\n",
    "```"
   ]
  },
  {
   "cell_type": "code",
   "execution_count": null,
   "metadata": {},
   "outputs": [],
   "source": [
    "# Define a small region for a cutout\n",
    "bbox = afwGeom.Box2I()\n",
    "bbox.include(afwGeom.Point2I(xmin, ymin))\n",
    "bbox.include(afwGeom.Point2I(xmin+width, ymin+height))\n",
    "\n",
    "# Generate the cutout image\n",
    "cutout = calexp.Factory(calexp, bbox, origin=afwImage.LOCAL, deep=False)"
   ]
  },
  {
   "cell_type": "code",
   "execution_count": null,
   "metadata": {},
   "outputs": [],
   "source": [
    "# Follow the same procedure as before to plot the cutout\n",
    "plt.figure()\n",
    "afw_display = afwDisplay.Display()\n",
    "afw_display.scale('asinh', 'zscale')\n",
    "afw_display.mtv(cutout.image)\n",
    "plt.gca().axis('off')\n",
    "\n",
    "# Plot the location of our target galaxy\n",
    "afw_display.dot('o', x_target, y_target, size=35, ctype='cyan')"
   ]
  },
  {
   "cell_type": "markdown",
   "metadata": {},
   "source": [
    "Ok, we've found a \"blank\" patch of sky. Let's add a few more photons to create a galaxy. We generate a random set of photons from a 2D Gaussian and add them to the pixel values of the image array."
   ]
  },
  {
   "cell_type": "code",
   "execution_count": null,
   "metadata": {},
   "outputs": [],
   "source": [
    "# Generate a list of counts with random pixel coordinates drawn from a 2D Gaussian\n",
    "sigma = 250        # Gaussian sigma in pix\n",
    "cov = [[sigma,sigma/2],[sigma/2,sigma]] # covariance (give the source some ellipticity)\n",
    "np.random.seed(42) # for repeatability\n",
    "xidx,yidx = np.random.multivariate_normal((x_target,y_target),cov,size=ncounts).astype(int).T\n",
    "np.add.at(calexp.image.array, (yidx,xidx), 1)"
   ]
  },
  {
   "cell_type": "code",
   "execution_count": null,
   "metadata": {},
   "outputs": [],
   "source": [
    "plt.figure()\n",
    "afw_display = afwDisplay.Display()\n",
    "afw_display.scale('asinh', 'zscale')\n",
    "afw_display.mtv(cutout.image)\n",
    "plt.gca().axis('off')\n",
    "\n",
    "# Plot the location of our target galaxy\n",
    "afw_display.dot('o', x_target, y_target, size=35, ctype='cyan')"
   ]
  },
  {
   "cell_type": "markdown",
   "metadata": {},
   "source": [
    "# Source Detection, Deblending, and Measurement\n",
    "\n",
    "We now want to run the LSST source detection, deblending, and measurement tasks. While we run all three tasks, this notebook is mostly focused on the detection of faint sources."
   ]
  },
  {
   "cell_type": "code",
   "execution_count": null,
   "metadata": {},
   "outputs": [],
   "source": [
    "# Importing the tasks\n",
    "from lsst.pipe.tasks.characterizeImage import CharacterizeImageTask\n",
    "from lsst.pipe.tasks.calibrate         import CalibrateTask\n",
    "from lsst.meas.algorithms.detection    import SourceDetectionTask\n",
    "from lsst.meas.deblender               import SourceDeblendTask\n",
    "from lsst.meas.base                    import SingleFrameMeasurementTask"
   ]
  },
  {
   "cell_type": "markdown",
   "metadata": {},
   "source": [
    "Each task possesses an associated configuration class. The properties of these classes can be determined from the classes themselves."
   ]
  },
  {
   "cell_type": "code",
   "execution_count": null,
   "metadata": {},
   "outputs": [],
   "source": [
    "# Uncomment the following line to view help on the CharacterizeImageTask configuration\n",
    "#help(CharacterizeImageTask.ConfigClass())"
   ]
  },
  {
   "cell_type": "code",
   "execution_count": null,
   "metadata": {},
   "outputs": [],
   "source": [
    "# Create the Tasks\n",
    "schema = afwTable.SourceTable.makeMinimalSchema()\n",
    "algMetadata = dafBase.PropertyList()\n",
    "\n",
    "config = CharacterizeImageTask.ConfigClass()\n",
    "config.psfIterations = 1\n",
    "charImageTask = CharacterizeImageTask(None, config=config)\n",
    "\n",
    "config = SourceDetectionTask.ConfigClass()\n",
    "config.thresholdValue = 10       # detection threshold in units of thresholdType\n",
    "config.thresholdType = \"stdev\"   # units for thresholdValue\n",
    "\n",
    "sourceDetectionTask =   SourceDetectionTask(schema=schema, config=config)\n",
    "sourceDeblendTask   =   SourceDeblendTask(schema=schema)\n",
    "\n",
    "config = SingleFrameMeasurementTask.ConfigClass()\n",
    "sourceMeasurementTask = SingleFrameMeasurementTask(schema=schema, config=config,\n",
    "                                                   algMetadata=algMetadata)"
   ]
  },
  {
   "cell_type": "markdown",
   "metadata": {},
   "source": [
    "With the each of the tasks configured, we can now move on to running the source detection, deblending, and measurement. Like the configs, we can use `help` to explore each task and the methods used to run it.\n",
    "\n",
    "First we create `SourceTable` for holding the output of our source analysis. The columns and characteristics of this table are defined by the `schema` that we created in our configuration step."
   ]
  },
  {
   "cell_type": "code",
   "execution_count": null,
   "metadata": {},
   "outputs": [],
   "source": [
    "tab = afwTable.SourceTable.make(schema)"
   ]
  },
  {
   "cell_type": "markdown",
   "metadata": {},
   "source": [
    "Next we characterize our image. This calculates various global properties, such as the PSF FWHM."
   ]
  },
  {
   "cell_type": "code",
   "execution_count": null,
   "metadata": {},
   "outputs": [],
   "source": [
    "# Image characterization (this cell may take a few seconds)\n",
    "result = charImageTask.run(calexp)\n",
    "\n",
    "psf = calexp.getPsf()\n",
    "sigma = psf.computeShape().getDeterminantRadius()\n",
    "pixelScale = calexp.getWcs().getPixelScale().asArcseconds()\n",
    "# The factor of 2.355 converts from std to fwhm\n",
    "print('psf fwhm = {:.2f} arcsec'.format(sigma*pixelScale*2.355))"
   ]
  },
  {
   "cell_type": "markdown",
   "metadata": {},
   "source": [
    "With the image characterized, we are now interested in running the source detection, deblending, and measurement tasks. Each of these tasks is called with the `run` method. The parameters of this method can be investigated using `help`."
   ]
  },
  {
   "cell_type": "code",
   "execution_count": null,
   "metadata": {},
   "outputs": [],
   "source": [
    "# We are specifically interested in the `SourceMeasurementTask`\n",
    "#help(sourceMeasurementTask.run)"
   ]
  },
  {
   "cell_type": "code",
   "execution_count": null,
   "metadata": {},
   "outputs": [],
   "source": [
    "# Source detection (this cell may take a few seconds)\n",
    "result = sourceDetectionTask.run(tab, calexp)\n",
    "type(result)"
   ]
  },
  {
   "cell_type": "markdown",
   "metadata": {},
   "source": [
    "The source detection task returns an [`lsst.pipe.base.struct.Struct`](http://doxygen.lsst.codes/stack/doxygen/x_masterDoxyDoc/classlsst_1_1pipe_1_1base_1_1struct_1_1_struct.html). A `Struct` is just a generalized container for storing multiple output components and accessessing them as attributes. The content of this `Struct` can be investigated with the `getDict` method."
   ]
  },
  {
   "cell_type": "code",
   "execution_count": null,
   "metadata": {},
   "outputs": [],
   "source": [
    "for k,v in result.getDict().items():\n",
    "    print(k, type(v))"
   ]
  },
  {
   "cell_type": "markdown",
   "metadata": {},
   "source": [
    "The members of the `Struct` can be accessed either through dictionary keys or as attributes of the `Struct`. For example:"
   ]
  },
  {
   "cell_type": "code",
   "execution_count": null,
   "metadata": {},
   "outputs": [],
   "source": [
    "sources = result.sources\n",
    "fpsets  = result.getDict()['fpSets']"
   ]
  },
  {
   "cell_type": "markdown",
   "metadata": {},
   "source": [
    "Note that `sources` is a `SourceCatalog` while `fpSets` is a `Struct` of it's own. Some algorithms can take these objects as they are, while others will require us to massage them a bit. Note that if we desire we can save some of these processed objects to disk."
   ]
  },
  {
   "cell_type": "code",
   "execution_count": null,
   "metadata": {},
   "outputs": [],
   "source": [
    "if False:\n",
    "    sources.writeFits(\"outputTable.fits\")\n",
    "    calexp.writeFits(\"example1-out.fits\")"
   ]
  },
  {
   "cell_type": "markdown",
   "metadata": {},
   "source": [
    "Next we run the `SourceDeblendTask` and `SingleFrameMeasurementTask`. A deeper investigation of these tasks is beyond the scope of this notebook."
   ]
  },
  {
   "cell_type": "code",
   "execution_count": null,
   "metadata": {},
   "outputs": [],
   "source": [
    "# Source deblending\n",
    "sourceDeblendTask.run(calexp, sources)\n",
    "\n",
    "# Source measurement (catch future warning about machine precision)\n",
    "sourceMeasurementTask.run(measCat=sources, exposure=calexp)"
   ]
  },
  {
   "cell_type": "markdown",
   "metadata": {},
   "source": [
    "To get a better look at the output sources, we need to make sure that the `SourceCatalog` is contiguous in memory. Converting to an `astropy` table provides a human-readable output format. A deeper dive into `SourceCatalog` is beyond the scope of this notebook."
   ]
  },
  {
   "cell_type": "code",
   "execution_count": null,
   "metadata": {},
   "outputs": [],
   "source": [
    "# ADW: Why do we `copy` the sources? This seems like a poorly named method...\n",
    "sources = sources.copy(True)\n",
    "\n",
    "# Investigate the output source catalog\n",
    "sources.asAstropy()"
   ]
  },
  {
   "cell_type": "markdown",
   "metadata": {},
   "source": [
    "We can now overplot our detected sources on the calexp or cutout image using `afwDisplay`.\n",
    "\n",
    "<a id='display-error'></a>"
   ]
  },
  {
   "cell_type": "code",
   "execution_count": null,
   "metadata": {},
   "outputs": [],
   "source": [
    "#Display the cutout and sources with afw display\n",
    "image = cutout.image\n",
    "#image = calexp.image\n",
    "\n",
    "plt.figure()\n",
    "afw_display = afwDisplay.Display()\n",
    "afw_display.scale('asinh', 'zscale')\n",
    "afw_display.mtv(image)\n",
    "plt.gca().axis('off')\n",
    "\n",
    "# We use display buffering to avoid re-drawing the image after each source is plotted\n",
    "with afw_display.Buffering():\n",
    "    for s in sources:\n",
    "        afw_display.dot('+', s.getX(), s.getY(), ctype=afwDisplay.RED)\n",
    "        afw_display.dot('o', s.getX(), s.getY(), size=20, ctype='orange')   \n",
    "\n",
    "        #ADW: This should work, but doesn't?\n",
    "        #https://github.com/lsst/display_matplotlib/pull/6\n",
    "        #afw_display.dot(s.getShape(), s.getX(), s.getY(), size=35, ctype='orange')\n",
    "    # Our \"ultra-faint galaxy\" (e.g. smudge)\n",
    "    afw_display.dot('o', x_target, y_target, size=35, ctype='cyan')"
   ]
  },
  {
   "cell_type": "markdown",
   "metadata": {},
   "source": [
    "Clearly our default settings for the source detection are missing our faint smudge. Let's see what we can do to improve this. "
   ]
  },
  {
   "cell_type": "markdown",
   "metadata": {},
   "source": [
    "### Faint Source Detection\n",
    "\n",
    "Our goal now is to improve the detection of faint, low-surface brightness sources in our images. Our plan of attack is to subtract the bright sources that have already been detected, and then convolve the residual image with a large spatial kernel. Our hope is that this will increase the contrast for our faint target.\n",
    "\n",
    "We start by identifying the pixels that are associated with the sources that we detected. This information is contained in the mask plane of our calexp and can be visualized with the `MaskedImage` object. "
   ]
  },
  {
   "cell_type": "code",
   "execution_count": null,
   "metadata": {},
   "outputs": [],
   "source": [
    "image = cutout.getMaskedImage()   #plot the cutout\n",
    "#image = calexp.getMaskedImage()   #plot the calexp\n",
    "\n",
    "plt.figure()\n",
    "afw_display = afwDisplay.Display()\n",
    "afw_display.scale('asinh', 'zscale')\n",
    "afw_display.mtv(image)\n",
    "plt.gca().axis('off')"
   ]
  },
  {
   "cell_type": "markdown",
   "metadata": {},
   "source": [
    "The `MaskedImage` is overplotting the values of the mask plane. The mapping between mask color and mask bit can be queried directly from the mask object."
   ]
  },
  {
   "cell_type": "code",
   "execution_count": null,
   "metadata": {},
   "outputs": [],
   "source": [
    "for maskName, maskBit in cutout.mask.getMaskPlaneDict().items():\n",
    "    print('{}: {}'.format(afw_display.getMaskPlaneColor(maskName),maskName))"
   ]
  },
  {
   "cell_type": "markdown",
   "metadata": {},
   "source": [
    "We now want to make a copy of our calexp and cutout so that we remove the detected sources. The way we do this is by replacing the values of `DETECTED` pixels with the characteristic noise estimated from the exposure."
   ]
  },
  {
   "cell_type": "code",
   "execution_count": null,
   "metadata": {},
   "outputs": [],
   "source": [
    "# Create a deep copy of the calexp, along with a MaskedImage and Mask\n",
    "calexp_clean = calexp.clone()\n",
    "mimage_clean = calexp_clean.getMaskedImage()\n",
    "mask_clean = calexp_clean.getMask()\n",
    "\n",
    "# Create a noise array from the standard deviation of the unmasked pixel values\n",
    "back_rms = mimage_clean.image.array[mask_clean.array==0].std()\n",
    "noise_array = back_rms*np.random.randn(*mask_clean.array.shape)\n",
    "\n",
    "# Create a boolean mask of pixels to replace\n",
    "replace = mask_clean.array & mask_clean.getPlaneBitMask('DETECTED') != 0\n",
    "\n",
    "# Replace the values of DETECTED pixels with the noise array value\n",
    "mimage_clean.image.array[replace] = noise_array[replace]\n",
    "\n",
    "# Create a cleaned cutout from the cleaned calexp\n",
    "cutout_clean = calexp_clean.Factory(calexp_clean, bbox, origin=afwImage.LOCAL, deep=False)"
   ]
  },
  {
   "cell_type": "code",
   "execution_count": null,
   "metadata": {},
   "outputs": [],
   "source": [
    "image = cutout_clean.image\n",
    "#image = calexp_clean.image # uncomment to plot full calexp instead\n",
    "\n",
    "plt.figure()\n",
    "afw_display = afwDisplay.Display()\n",
    "afw_display.scale('asinh', 'zscale')\n",
    "afw_display.mtv(image)\n",
    "plt.gca().axis('off')"
   ]
  },
  {
   "cell_type": "markdown",
   "metadata": {},
   "source": [
    "The procedure above masks all `DETECTED` pixels with a simplistic selection. However, the Stack provides an alternative mechanism for more directed masking through the [meas.base.noiseReplacer](http://doxygen.lsst.codes/stack/doxygen/x_masterDoxyDoc/classlsst_1_1meas_1_1base_1_1noise_replacer_1_1_noise_replacer.html). The `noiseReplacer` takes as input the calexp object and the footprint set (`fpset`) returned `sourceDetectionTask`. With the `noiseReplacer`, it is possible to selectively replace a subset of the sources."
   ]
  },
  {
   "cell_type": "markdown",
   "metadata": {},
   "source": [
    "Now let's try re-running the source detection task with a larger convolution kernel. To figure out how to do this, we take a dive into the SourceDetectionTask and it's associated `SourceDetectionConfig`."
   ]
  },
  {
   "cell_type": "code",
   "execution_count": null,
   "metadata": {},
   "outputs": [],
   "source": [
    "print(SourceDetectionTask)\n",
    "print(SourceDetectionTask.ConfigClass)"
   ]
  },
  {
   "cell_type": "markdown",
   "metadata": {},
   "source": [
    "So `SourceDetectionTask` lives in [lsst.meas.algorithms.detection](http://doxygen.lsst.codes/stack/doxygen/x_masterDoxyDoc/classlsst_1_1meas_1_1algorithms_1_1detection_1_1_source_detection_task.html), where we can find a link to documentation for the associated [SourceDetectionConfig](http://doxygen.lsst.codes/stack/doxygen/x_masterDoxyDoc/classlsst_1_1meas_1_1algorithms_1_1detection_1_1_source_detection_config.html). The [source code](http://doxygen.lsst.codes/stack/doxygen/x_masterDoxyDoc/detection_8py_source.html) will help us understand what `SourceDetectionTask` is doing.\n",
    "\n",
    "Specifically, we are interested in adjusting the PSF size for `SourceDetectionTask.run`. To see the impact that this will have on the search image, we [dive into the source code](https://github.com/lsst/meas_algorithms/blob/e62bbd2ae2268e5ef5ef4ad8e0e60bf159c01190/python/lsst/meas/algorithms/detection.py#L752-L756) to extract the convolution step.\n",
    "\n",
    "```\n",
    "        psf = self.getPsf(exposure, sigma=sigma)\n",
    "        with self.tempWideBackgroundContext(exposure):\n",
    "            convolveResults = self.convolveImage(maskedImage, psf, doSmooth=doSmooth)\n",
    "            middle = convolveResults.middle\n",
    "            sigma = convolveResults.sigma\n",
    "\n",
    "```\n",
    "\n",
    "We don't know a priori the size of the convolution kernel that will maximize the signal-to-noise of our faint source, so we do a little visual investigation on the cleaned cutout."
   ]
  },
  {
   "cell_type": "code",
   "execution_count": null,
   "metadata": {},
   "outputs": [],
   "source": [
    "doSmooth = True # actually do the smoothing\n",
    "\n",
    "# Loop over PSF convolution size in pixels\n",
    "for i,sigma in enumerate([5, 7, 10]):\n",
    "    # Make a deep copy of the cutout\n",
    "    exp = cutout_clean.clone()\n",
    "    # Alternatively we can see what happens to the full calexp\n",
    "    #exp = calexp.clone()\n",
    "    \n",
    "    psf = sourceDetectionTask.getPsf(exp, sigma=sigma)\n",
    "    convolveResults = sourceDetectionTask.convolveImage(exp.getMaskedImage(), psf, doSmooth=doSmooth)\n",
    "    middle = convolveResults.middle\n",
    "    sigma = convolveResults.sigma\n",
    "\n",
    "    plt.figure(i, figsize=(5,5))\n",
    "    afw_display = afwDisplay.Display(frame=i)\n",
    "    afw_display.scale('asinh', 'zscale')\n",
    "    afw_display.mtv(middle.image)\n",
    "    plt.gca().axis('off')\n",
    "    plt.title(\"Convolution Kernel: %s pix\"%sigma)"
   ]
  },
  {
   "cell_type": "markdown",
   "metadata": {},
   "source": [
    "It looks like a convolution kernel of 7 pix does good enough at increasing the contrast for our source. We can re-run the source detection, deblending, and measurement tasks. When running the `SourceDetectionTask` we explicitly set `sigma = 7`"
   ]
  },
  {
   "cell_type": "code",
   "execution_count": null,
   "metadata": {},
   "outputs": [],
   "source": [
    "# Run source detection, deblending, and measurement (this cell may take a few seconds)\n",
    "tab = afwTable.SourceTable.make(schema)\n",
    "\n",
    "# Source detection\n",
    "result = sourceDetectionTask.run(tab, calexp_clean, sigma=7)\n",
    "sources = result.sources\n",
    "\n",
    "# Source deblending\n",
    "sourceDeblendTask.run(calexp_clean, sources)\n",
    "# Source measurement (catch future warning about machine precision)\n",
    "sourceMeasurementTask.run(measCat=sources, exposure=calexp_clean)\n",
    "\n",
    "# Make sure sources are contiguous in memory\n",
    "sources = sources.copy(True)"
   ]
  },
  {
   "cell_type": "code",
   "execution_count": null,
   "metadata": {},
   "outputs": [],
   "source": [
    "# Investigate the output source catalog\n",
    "sources.asAstropy()"
   ]
  },
  {
   "cell_type": "code",
   "execution_count": null,
   "metadata": {},
   "outputs": [],
   "source": [
    "#Display the cutout and detected sources with afw display\n",
    "plt.figure()\n",
    "afw_display = afwDisplay.Display()\n",
    "afw_display.scale('asinh', 'zscale')\n",
    "afw_display.mtv(cutout_clean.image)\n",
    "plt.gca().axis('off')\n",
    "\n",
    "with afw_display.Buffering():\n",
    "    for s in sources:\n",
    "        afw_display.dot('+', *s.getCentroid(), ctype=afwDisplay.RED)\n",
    "        afw_display.dot('o', s.getX(), s.getY(), size=20, ctype='orange')   \n",
    "\n",
    "    # Our low-surface-brightness \"galaxy\" (a.k.a. our \"smudge\")\n",
    "    afw_display.dot('o', x_target, y_target, size=35, ctype='cyan')"
   ]
  },
  {
   "cell_type": "markdown",
   "metadata": {},
   "source": [
    "Success! We've been able to pick up our faint smudge! Now good luck measuring the distance to that sucker!"
   ]
  },
  {
   "cell_type": "markdown",
   "metadata": {},
   "source": [
    "# Summary\n",
    "\n",
    "In this tutorial, you should have learned how to access a calexp, make a cutout, configure the source detection, subtract detected sources, convolve the image with a fixed kernel, and re-extract a faint, low-surface brightness source."
   ]
  }
 ],
 "metadata": {
  "kernelspec": {
   "display_name": "LSST",
   "language": "python",
   "name": "lsst"
  },
  "language_info": {
   "codemirror_mode": {
    "name": "ipython",
    "version": 3
   },
   "file_extension": ".py",
   "mimetype": "text/x-python",
   "name": "python",
   "nbconvert_exporter": "python",
   "pygments_lexer": "ipython3",
   "version": "3.8.8"
  }
 },
 "nbformat": 4,
 "nbformat_minor": 4
}
