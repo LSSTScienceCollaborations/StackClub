{
 "cells": [
  {
   "cell_type": "markdown",
   "id": "87753239",
   "metadata": {
    "tags": []
   },
   "source": [
    "# Ingest and load local refcat demo using DELVE_DR1\n",
    "\n",
    "<br>Owner: **Peter Ferguson** ([@psferguson](https://github.com/LSSTScienceCollaborations/StackClub/issues/new?body=@psferguson))\n",
    "<br>Last Verified to Run: **2021-12-10**\n",
    "<br>Verified Stack Release: **w_2021_40**\n",
    "Last verified to run on 2021-12-10 with LSST Science Pipelines release w_2021_40 <br>\n",
    "Contact authors: Peter Ferguson <br>"
   ]
  },
  {
   "cell_type": "markdown",
   "id": "a8aafaff",
   "metadata": {},
   "source": [
    "### Learning Objectives\n",
    "\n",
    "This notebook demonstrates how to: <br>\n",
    "1. Ingest Fits catalog into gen2 refcat repo \n",
    "2. Convert to gen3 repo\n",
    "3. Load a source catalog\n",
    "4. Load the local reference catalog that overlaps"
   ]
  },
  {
   "cell_type": "markdown",
   "id": "b82073d2",
   "metadata": {},
   "source": [
    "### Set Up \n",
    "You can find the Stack version by using `eups list -s` on the terminal command line."
   ]
  },
  {
   "cell_type": "code",
   "execution_count": null,
   "id": "31ccd1cb",
   "metadata": {},
   "outputs": [],
   "source": [
    "# Site, host, and stack version\n",
    "! echo $EXTERNAL_INSTANCE_URL\n",
    "! echo $HOSTNAME\n",
    "! eups list -s | grep lsst_distrib"
   ]
  },
  {
   "cell_type": "code",
   "execution_count": null,
   "id": "800a53da",
   "metadata": {},
   "outputs": [],
   "source": [
    "import subprocess\n",
    "import numpy as np\n",
    "import matplotlib.pyplot as plt\n",
    "import lsst.geom\n",
    "from lsst.daf.butler import Butler"
   ]
  },
  {
   "cell_type": "markdown",
   "id": "d3bb747a",
   "metadata": {},
   "source": [
    "### Create a gen2 reference catalog\n",
    "\n",
    "Currently we must first create a gen2 refcat then convert to gen3 \n",
    "\n",
    "This is done by setting up a directory and config file, then calling `ingestIndexReferenceTask`\n",
    "\n",
    "For this example we will create a refcat from a DELVE (DEcam Local Volume Exploration survey [Website](https://delve-survey.github.io/)) DR1 healpixel located on NCSA"
   ]
  },
  {
   "cell_type": "code",
   "execution_count": null,
   "id": "d0b616da",
   "metadata": {},
   "outputs": [],
   "source": [
    "# setting names\n",
    "refcatDir='custom_refcat_demo'\n",
    "configFile=\"ingestConfigOverride.cfg\"\n",
    "inputFile=\"/project/shared/data/delve_dr1/cat/cat_hpx_07798.fits\""
   ]
  },
  {
   "cell_type": "code",
   "execution_count": null,
   "id": "8d528713",
   "metadata": {},
   "outputs": [],
   "source": [
    "! mkdir {refcatDir}\n",
    "! echo \"lsst.obs.lsst.LsstCamMapper\" > {refcatDir}/_mapper"
   ]
  },
  {
   "cell_type": "markdown",
   "id": "eabd41f6-2226-4551-b3f0-59a068ff3763",
   "metadata": {},
   "source": [
    "Below is the set of configs used in creating this refcat\n",
    " 1. Since the refcat is in Fits format we retarget the file reader\n",
    " 2. It is required to give a name to this refcat, in this case delve_dr1\n",
    " 3. We also need to specify ra, dec, mag, and mag_error columns\n",
    " 4. Finally we can give the config a list of extra columns to include in the refcat (e.g. star/gal classifier)"
   ]
  },
  {
   "cell_type": "code",
   "execution_count": null,
   "id": "c511f560",
   "metadata": {},
   "outputs": [],
   "source": [
    "%%writefile {configFile}\n",
    "from lsst.meas.algorithms.readFitsCatalogTask import ReadFitsCatalogTask\n",
    "\n",
    "# Default is ReadTextCatalogTask\n",
    "config.file_reader.retarget(ReadFitsCatalogTask)\n",
    "\n",
    "# String to pass to the butler to retrieve persisted files.\n",
    "config.dataset_config.ref_dataset_name='delve_dr1'\n",
    "\n",
    "\n",
    "config.dataset_config.indexer.name='HTM'\n",
    "\n",
    "# Depth of the HTM tree to make.  Default is depth=7 which gives ~ 0.3 sq. deg. per trixel.\n",
    "config.dataset_config.indexer['HTM'].depth=7\n",
    "\n",
    "# Number of python processes to use when ingesting.\n",
    "config.n_processes=5\n",
    "\n",
    "# Name of RA column\n",
    "config.ra_name='RA'\n",
    "\n",
    "# Name of Dec column\n",
    "config.dec_name='DEC'\n",
    "\n",
    "# Name of column to use as an identifier (optional).\n",
    "config.id_name='QUICK_OBJECT_ID'\n",
    "\n",
    "# The values in the reference catalog are assumed to be in AB magnitudes. List of column names to use for\n",
    "# photometric information.  At least one entry is required.\n",
    "config.mag_column_list=['MAG_PSF_G', 'MAG_PSF_R','MAG_PSF_I', 'MAG_PSF_Z']\n",
    "\n",
    "# A map of magnitude column name (key) to magnitude error column (value).\n",
    "config.mag_err_column_map={'MAG_PSF_G':'MAGERR_PSF_G', 'MAG_PSF_R':'MAGERR_PSF_R','MAG_PSF_I':'MAGERR_PSF_I', 'MAG_PSF_Z':'MAGERR_PSF_Z'}\n",
    "\n",
    "# Names of extra columns to include \n",
    "config.extra_col_names=['SPREAD_MODEL_G','SPREAD_MODEL_R','SPREAD_MODEL_I','SPREAD_MODEL_Z',\n",
    "                        'SPREADERR_MODEL_G', 'SPREADERR_MODEL_R', 'SPREADERR_MODEL_I', 'SPREADERR_MODEL_Z',\n",
    "                        'EXTINCTION_G', 'EXTINCTION_R', 'EXTINCTION_I', 'EXTINCTION_Z']\n"
   ]
  },
  {
   "cell_type": "markdown",
   "id": "175e1562-1861-405b-8c1d-a0024193cc5b",
   "metadata": {},
   "source": [
    "We then use the `ingestReferenceCatalog.py` command line tool to ingest the catalog, this takes a bit of time to run. "
   ]
  },
  {
   "cell_type": "code",
   "execution_count": null,
   "id": "28dba6b6",
   "metadata": {},
   "outputs": [],
   "source": [
    "! ingestReferenceCatalog.py {refcatDir} {inputFile}  --configfile {configFile} "
   ]
  },
  {
   "cell_type": "markdown",
   "id": "74647ca6",
   "metadata": {},
   "source": [
    "### Run gen2 -> gen3 conversion\n",
    "We now have a gen2 refcat, that needs to be converted to gen3\n",
    "\n",
    "Start by setting up the config file"
   ]
  },
  {
   "cell_type": "code",
   "execution_count": null,
   "id": "ca9045c0",
   "metadata": {},
   "outputs": [],
   "source": [
    "# Create conversion configuration file\n",
    "! echo 'config.datasetIncludePatterns = [\"ref_cat\", ]' > convertRefCat.cfg\n",
    "! echo \"config.refCats = ['delve_dr1']\" >> convertRefCat.cfg"
   ]
  },
  {
   "cell_type": "code",
   "execution_count": null,
   "id": "3ea24211",
   "metadata": {},
   "outputs": [],
   "source": [
    "#If we want the baseline (gaia,ps1,sdss) refcats in the same collection this cell can be run\n",
    "#!ln -sf /datasets/refcats/htm/htm_baseline/* {refcatDir}/ref_cats/"
   ]
  },
  {
   "cell_type": "markdown",
   "id": "00520101-8b1c-4fa5-8aa9-8448a6f40e78",
   "metadata": {},
   "source": [
    "Now we can run the `butler convert` command line task this will create a new repo if there is not one already."
   ]
  },
  {
   "cell_type": "code",
   "execution_count": null,
   "id": "9209da41-8a20-47de-afbf-7994e6f915c7",
   "metadata": {},
   "outputs": [],
   "source": [
    "newRepo=\"custom_refcat_demo/gen3repo\""
   ]
  },
  {
   "cell_type": "code",
   "execution_count": null,
   "id": "6d7e2089",
   "metadata": {},
   "outputs": [],
   "source": [
    "# Note this now also creates the curated calib files\n",
    "! butler convert --gen2root {refcatDir} --config-file convertRefCat.cfg  {newRepo}"
   ]
  },
  {
   "cell_type": "markdown",
   "id": "94664e83-bcc5-49ab-ac2a-55f28cce6493",
   "metadata": {},
   "source": [
    "### Loading the new refcat\n",
    "Then we can load this new repo, and check the \"refcats/gen2\" collection to see what it contains. "
   ]
  },
  {
   "cell_type": "code",
   "execution_count": null,
   "id": "2939111a",
   "metadata": {},
   "outputs": [],
   "source": [
    "butler = Butler(newRepo)\n",
    "registry = butler.registry"
   ]
  },
  {
   "cell_type": "code",
   "execution_count": null,
   "id": "2b254544-5cb0-4c4e-af83-b11e84dd0e92",
   "metadata": {},
   "outputs": [],
   "source": [
    "[i for i in list(registry.queryCollections())]"
   ]
  },
  {
   "cell_type": "code",
   "execution_count": null,
   "id": "bb2f30a1",
   "metadata": {},
   "outputs": [],
   "source": [
    "registry.getCollectionSummary('refcats/gen2').datasetTypes.names"
   ]
  },
  {
   "cell_type": "code",
   "execution_count": null,
   "id": "b4a45f37",
   "metadata": {},
   "outputs": [],
   "source": [
    "refDataset=\"delve_dr1\"\n",
    "refcatRefs = list(registry.queryDatasets(datasetType=refDataset,\n",
    "                                          collections=[\"refcats/gen2\"]).expanded())\n",
    "refDataIds=[_.dataId for _ in refcatRefs]\n",
    "refCatsDef = [butler.getDeferred(refDataset, __, collections=['refcats']) for __ in refDataIds]"
   ]
  },
  {
   "cell_type": "code",
   "execution_count": null,
   "id": "05ee2dbb-75d3-46a5-8970-9ae1c9ddfebc",
   "metadata": {},
   "outputs": [],
   "source": [
    "refCats=[butler.getDirect(__) for __ in refcatRefs]"
   ]
  },
  {
   "cell_type": "markdown",
   "id": "851666e5-2c9a-4fd7-85f0-4afd0fb9f884",
   "metadata": {},
   "source": [
    "Finally we can plot the loaded refcat "
   ]
  },
  {
   "cell_type": "code",
   "execution_count": null,
   "id": "b733852b-1fb8-4ae8-b1d0-25b6098b8f87",
   "metadata": {},
   "outputs": [],
   "source": [
    "fit,ax=plt.subplots()\n",
    "for refCat in refCats:\n",
    "    ax.scatter(refCat[\"coord_ra\"], refCat[\"coord_dec\"], label=\"refcat\",s=0.01)\n",
    "plt.xlabel(\"RA\")\n",
    "plt.ylabel(\"DEC\")"
   ]
  }
 ],
 "metadata": {
  "kernelspec": {
   "display_name": "LSST",
   "language": "python",
   "name": "lsst"
  },
  "language_info": {
   "codemirror_mode": {
    "name": "ipython",
    "version": 3
   },
   "file_extension": ".py",
   "mimetype": "text/x-python",
   "name": "python",
   "nbconvert_exporter": "python",
   "pygments_lexer": "ipython3",
   "version": "3.8.8"
  }
 },
 "nbformat": 4,
 "nbformat_minor": 5
}
